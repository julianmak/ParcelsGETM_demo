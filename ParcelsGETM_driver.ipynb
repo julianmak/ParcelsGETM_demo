{
  "nbformat": 4,
  "nbformat_minor": 0,
  "metadata": {
    "colab": {
      "provenance": []
    },
    "kernelspec": {
      "name": "python3",
      "display_name": "Python 3"
    },
    "language_info": {
      "name": "python"
    }
  },
  "cells": [
    {
      "cell_type": "markdown",
      "source": [
        "# oceanparcels_demo.ipynb (mostly from Dan Bartley)\n",
        "\n",
        "All the material below is taken from the tutorial notebooks at https://oceanparcels.org/ - I've just picked out stuff from there."
      ],
      "metadata": {
        "id": "SpUOAYad8S14"
      }
    },
    {
      "cell_type": "markdown",
      "source": [
        "## Import packages\n",
        "\n",
        "Run the `pip` commands below to install some non-default packages."
      ],
      "metadata": {
        "id": "Ir9MHjrW8ZvY"
      }
    },
    {
      "cell_type": "code",
      "source": [
        "%pip install parcels cgen cftime netCDF4 zarr\n",
        "%pip install cartopy"
      ],
      "metadata": {
        "colab": {
          "base_uri": "https://localhost:8080/"
        },
        "id": "aO40iuCh8b-7",
        "outputId": "c49fc378-fe9f-454a-ec61-07afc06251ab"
      },
      "execution_count": 16,
      "outputs": [
        {
          "output_type": "stream",
          "name": "stdout",
          "text": [
            "Requirement already satisfied: parcels in /usr/local/lib/python3.10/dist-packages (2.4.2)\n",
            "Requirement already satisfied: cgen in /usr/local/lib/python3.10/dist-packages (2020.1)\n",
            "Requirement already satisfied: cftime in /usr/local/lib/python3.10/dist-packages (1.6.2)\n",
            "Requirement already satisfied: netCDF4 in /usr/local/lib/python3.10/dist-packages (1.6.4)\n",
            "Requirement already satisfied: zarr in /usr/local/lib/python3.10/dist-packages (2.15.0)\n",
            "Requirement already satisfied: pytools>=2015.1.2 in /usr/local/lib/python3.10/dist-packages (from cgen) (2023.1)\n",
            "Requirement already satisfied: numpy>=1.6 in /usr/local/lib/python3.10/dist-packages (from cgen) (1.22.4)\n",
            "Requirement already satisfied: certifi in /usr/local/lib/python3.10/dist-packages (from netCDF4) (2023.5.7)\n",
            "Requirement already satisfied: asciitree in /usr/local/lib/python3.10/dist-packages (from zarr) (0.3.3)\n",
            "Requirement already satisfied: fasteners in /usr/local/lib/python3.10/dist-packages (from zarr) (0.18)\n",
            "Requirement already satisfied: numcodecs>=0.10.0 in /usr/local/lib/python3.10/dist-packages (from zarr) (0.11.0)\n",
            "Requirement already satisfied: entrypoints in /usr/local/lib/python3.10/dist-packages (from numcodecs>=0.10.0->zarr) (0.4)\n",
            "Requirement already satisfied: platformdirs>=2.2.0 in /usr/local/lib/python3.10/dist-packages (from pytools>=2015.1.2->cgen) (3.8.1)\n",
            "Requirement already satisfied: typing-extensions>=4.0 in /usr/local/lib/python3.10/dist-packages (from pytools>=2015.1.2->cgen) (4.7.1)\n",
            "Collecting cartopy\n",
            "  Downloading Cartopy-0.21.1.tar.gz (10.9 MB)\n",
            "\u001b[2K     \u001b[90m━━━━━━━━━━━━━━━━━━━━━━━━━━━━━━━━━━━━━━━━\u001b[0m \u001b[32m10.9/10.9 MB\u001b[0m \u001b[31m91.4 MB/s\u001b[0m eta \u001b[36m0:00:00\u001b[0m\n",
            "\u001b[?25h  Installing build dependencies ... \u001b[?25l\u001b[?25hdone\n",
            "  Getting requirements to build wheel ... \u001b[?25l\u001b[?25hdone\n",
            "  Preparing metadata (pyproject.toml) ... \u001b[?25l\u001b[?25hdone\n",
            "Requirement already satisfied: numpy>=1.18 in /usr/local/lib/python3.10/dist-packages (from cartopy) (1.22.4)\n",
            "Requirement already satisfied: matplotlib>=3.1 in /usr/local/lib/python3.10/dist-packages (from cartopy) (3.7.1)\n",
            "Requirement already satisfied: shapely>=1.6.4 in /usr/local/lib/python3.10/dist-packages (from cartopy) (2.0.1)\n",
            "Collecting pyshp>=2.1 (from cartopy)\n",
            "  Downloading pyshp-2.3.1-py2.py3-none-any.whl (46 kB)\n",
            "\u001b[2K     \u001b[90m━━━━━━━━━━━━━━━━━━━━━━━━━━━━━━━━━━━━━━━━\u001b[0m \u001b[32m46.5/46.5 kB\u001b[0m \u001b[31m5.4 MB/s\u001b[0m eta \u001b[36m0:00:00\u001b[0m\n",
            "\u001b[?25hRequirement already satisfied: pyproj>=3.0.0 in /usr/local/lib/python3.10/dist-packages (from cartopy) (3.6.0)\n",
            "Requirement already satisfied: contourpy>=1.0.1 in /usr/local/lib/python3.10/dist-packages (from matplotlib>=3.1->cartopy) (1.1.0)\n",
            "Requirement already satisfied: cycler>=0.10 in /usr/local/lib/python3.10/dist-packages (from matplotlib>=3.1->cartopy) (0.11.0)\n",
            "Requirement already satisfied: fonttools>=4.22.0 in /usr/local/lib/python3.10/dist-packages (from matplotlib>=3.1->cartopy) (4.40.0)\n",
            "Requirement already satisfied: kiwisolver>=1.0.1 in /usr/local/lib/python3.10/dist-packages (from matplotlib>=3.1->cartopy) (1.4.4)\n",
            "Requirement already satisfied: packaging>=20.0 in /usr/local/lib/python3.10/dist-packages (from matplotlib>=3.1->cartopy) (23.1)\n",
            "Requirement already satisfied: pillow>=6.2.0 in /usr/local/lib/python3.10/dist-packages (from matplotlib>=3.1->cartopy) (8.4.0)\n",
            "Requirement already satisfied: pyparsing>=2.3.1 in /usr/local/lib/python3.10/dist-packages (from matplotlib>=3.1->cartopy) (3.1.0)\n",
            "Requirement already satisfied: python-dateutil>=2.7 in /usr/local/lib/python3.10/dist-packages (from matplotlib>=3.1->cartopy) (2.8.2)\n",
            "Requirement already satisfied: certifi in /usr/local/lib/python3.10/dist-packages (from pyproj>=3.0.0->cartopy) (2023.5.7)\n",
            "Requirement already satisfied: six>=1.5 in /usr/local/lib/python3.10/dist-packages (from python-dateutil>=2.7->matplotlib>=3.1->cartopy) (1.16.0)\n",
            "Building wheels for collected packages: cartopy\n",
            "  Building wheel for cartopy (pyproject.toml) ... \u001b[?25l\u001b[?25hdone\n",
            "  Created wheel for cartopy: filename=Cartopy-0.21.1-cp310-cp310-linux_x86_64.whl size=11102754 sha256=369124a9c22371f351c7ed3a3035981fc788ca0a10494c3e1a93a785bdab2b3b\n",
            "  Stored in directory: /root/.cache/pip/wheels/30/b0/1a/1c1909e00c76653dc4e2ff48555257c0eb2d1698280c8d9955\n",
            "Successfully built cartopy\n",
            "Installing collected packages: pyshp, cartopy\n",
            "Successfully installed cartopy-0.21.1 pyshp-2.3.1\n"
          ]
        }
      ]
    },
    {
      "cell_type": "code",
      "source": [
        "%matplotlib inline\n",
        "from parcels import FieldSet, ParticleSet, JITParticle, AdvectionRK4, plotTrajectoriesFile, ErrorCode\n",
        "from datetime import timedelta\n",
        "import numpy as np\n",
        "import xarray as xr\n",
        "import matplotlib.pyplot as plt\n",
        "import cartopy\n",
        "import cartopy.crs as ccrs\n",
        "from matplotlib.animation import FuncAnimation\n",
        "from IPython.display import HTML"
      ],
      "metadata": {
        "id": "pdjxpl5z8WxL"
      },
      "execution_count": 17,
      "outputs": []
    },
    {
      "cell_type": "markdown",
      "source": [
        "## Load velocities from NetCDF files\n",
        "These are loaded into an OceanParcels FieldSet object."
      ],
      "metadata": {
        "id": "1wrtNrqC9m-W"
      }
    },
    {
      "cell_type": "code",
      "source": [
        "# Names of files containing the data\n",
        "velocity_file = \"velocity_data/winter_2010.nc\"\n",
        "filenames = {\n",
        "    'U': velocity_file,\n",
        "    'V': velocity_file\n",
        "}\n",
        "\n",
        "# Names of the velocity component data in the file\n",
        "variables = {\n",
        "    'U': 'uu',\n",
        "    'V': 'vv'\n",
        "}\n",
        "\n",
        "# Names of the dimensions in the file\n",
        "dimensions = {\n",
        "    'lat': 'latc',\n",
        "    'lon': 'lonc',\n",
        "    'time': 'time'\n",
        "}\n",
        "\n",
        "# Create the FieldSet object\n",
        "fieldset = FieldSet.from_netcdf(filenames, variables, dimensions)"
      ],
      "metadata": {
        "id": "wdoXwcSw8hJJ"
      },
      "execution_count": null,
      "outputs": []
    },
    {
      "cell_type": "markdown",
      "source": [
        "## Initialise particles\n",
        "This is done using a ParticleSet object. I've included how it might be done for 1) putting individual one or few particles, and 2) fun particle shapes"
      ],
      "metadata": {
        "id": "zsjXZTUM9mzK"
      }
    },
    {
      "cell_type": "markdown",
      "source": [
        "#### 1) Putting one or a few particles"
      ],
      "metadata": {
        "id": "a8NzfUyu_FJ0"
      }
    },
    {
      "cell_type": "code",
      "source": [
        "# Initial positions of particles\n",
        "# (one line per particle, add/remove lines as desired)\n",
        "particle_positions = np.array([\n",
        "    [113.7, 22.6], # (longitude, latitude)\n",
        "    [113.71, 22.6], # (longitude, latitude)\n",
        "    # ...\n",
        "])\n",
        "\n",
        "# Release times of particles (must have a release time per particle)\n",
        "# Alternatively if you don't include time they get released at the first time value in the velocity file\n",
        "particle_times = np.arange(2)*timedelta(hours=8).total_seconds()\n",
        "\n",
        "# Create the ParticleSet\n",
        "pset = ParticleSet.from_list(\n",
        "    fieldset=fieldset,\n",
        "    pclass=JITParticle,\n",
        "    lon=particle_positions[:, 0],\n",
        "    lat=particle_positions[:, 1],\n",
        "    time=particle_times\n",
        ")"
      ],
      "metadata": {
        "id": "J-v18l0Z_LxM"
      },
      "execution_count": null,
      "outputs": []
    },
    {
      "cell_type": "markdown",
      "source": [
        "#### 2) Fun particle shapes\n",
        "I have included some fun designs for particle positions (smiley face, rubber duck, HKUST \"logo\"). These have integer coordinates for rows and columns and are centred at (0, 0). To place them in the domain, just add on the desired centre and multiply by a desired scale factor. For these I didn't set any release time so they are just released at the first time value in the velocity file."
      ],
      "metadata": {
        "id": "-p68dInG_FOs"
      }
    },
    {
      "cell_type": "code",
      "source": [
        "# Load the coordinates\n",
        "coords = np.loadtxt(f\"smiley_face.csv\", delimiter=\",\", dtype=int)\n",
        "\n",
        "# Move the shape to the desired centre and multiply by a scale factor\n",
        "particle_positions = np.array([114.62, 22.1]) + (0.0075*coords)\n",
        "\n",
        "# Create the ParticleSet\n",
        "pset = ParticleSet.from_list(\n",
        "    fieldset=fieldset,\n",
        "    pclass=JITParticle,\n",
        "    lon=particle_positions[:, 0],\n",
        "    lat=particle_positions[:, 1]\n",
        ")"
      ],
      "metadata": {
        "id": "O0QK3IzY_UVp"
      },
      "execution_count": null,
      "outputs": []
    },
    {
      "cell_type": "markdown",
      "source": [
        "#### Show the particle initial positions\n",
        "The `domain` argument specifies the maximum extent of the plot otherwise it defaults to the minimum boundary that covers the particles which isn't super helpful. Note that if you want to change this domain make sure it's within the range of the velocity data otherwise it will throw an error."
      ],
      "metadata": {
        "id": "sBrVDy9-_Tuf"
      }
    },
    {
      "cell_type": "code",
      "source": [
        "pset.show(\n",
        "    domain={\n",
        "        \"N\":23.00,\n",
        "        \"S\":21.75,\n",
        "        \"E\":114.95,\n",
        "        \"W\":112.95\n",
        "    }\n",
        ")"
      ],
      "metadata": {
        "id": "zxYR13dT_cmw"
      },
      "execution_count": null,
      "outputs": []
    },
    {
      "cell_type": "markdown",
      "source": [
        "## Simulate particle motion\n",
        "Trajectories are saved to a `.zarr` file which can be reopened later for plotting."
      ],
      "metadata": {
        "id": "9ZnI8z3H_FQ_"
      }
    },
    {
      "cell_type": "code",
      "source": [
        "# Length of time to simulate\n",
        "runtime = timedelta(days=10)\n",
        "\n",
        "# Integration timestep\n",
        "dt = timedelta(minutes=5)\n",
        "\n",
        "# Name of output file\n",
        "trajectory_filename = \"particle_trajectories.zarr\"\n",
        "\n",
        "# Frequency of outputs\n",
        "output_frequency = timedelta(minutes=30)\n",
        "\n",
        "# Function for deleting particles that go out of the boundary\n",
        "def DeleteParticle(particle, fieldset, time):\n",
        "    particle.delete()\n",
        "\n",
        "# Simulate and save the trajectories\n",
        "output_file = pset.ParticleFile(name=trajectory_filename, outputdt=output_frequency)\n",
        "pset.execute(\n",
        "    AdvectionRK4,\n",
        "    runtime=runtime,\n",
        "    dt=dt,\n",
        "    output_file=output_file,\n",
        "    recovery={ErrorCode.ErrorOutOfBounds: DeleteParticle}\n",
        ")"
      ],
      "metadata": {
        "id": "JVqOOZLI_f9t"
      },
      "execution_count": null,
      "outputs": []
    },
    {
      "cell_type": "markdown",
      "source": [
        "# Plotting\n",
        "\n",
        "I think OceanParcels doesn't really have its own plotting functionality, so they recommend you write your own. The code below comes from the animation tutorial in https://nbviewer.org/github/OceanParcels/parcels/blob/master/parcels/examples/tutorial_output.ipynb. This particular way of doing it seems to be painfully slow in some cases e.g. when there are particles released at different times, so an alternative option may be needed, which may also depend on what platform you're using (e.g. Jupyter/Colab)\n",
        "\n",
        "(Note: as a quick and dirty method you can use the OceanParcels function `plotTrajectoriesFile(\"filename.zarr\",mode=\"movie2d_notebook\")`, but it is very basic and doesn't seem to behave very well when using the method to delete particles that go outside the boundary, so probably best to stick to custom-made options)"
      ],
      "metadata": {
        "id": "Qwl6kiNs_FTb"
      }
    },
    {
      "cell_type": "code",
      "source": [
        "# Load the trajectory data\n",
        "trajectory_filename = \"particle_trajectories.zarr\"\n",
        "data_xarray = xr.open_zarr(trajectory_filename)\n",
        "\n",
        "dt = np.timedelta64(timedelta(minutes=30))\n",
        "\n",
        "# Times at which to plot\n",
        "timerange = np.arange(\n",
        "    np.nanmin(data_xarray['time'].values),\n",
        "    np.nanmax(data_xarray['time'].values) + dt,\n",
        "    dt\n",
        ")"
      ],
      "metadata": {
        "id": "M5AVLbmx_mk7"
      },
      "execution_count": null,
      "outputs": []
    },
    {
      "cell_type": "code",
      "source": [
        "# fancy plot with more cartopy functionalities\n",
        "\n",
        "from cartopy.io import shapereader\n",
        "from cartopy.mpl.gridliner import LONGITUDE_FORMATTER, LATITUDE_FORMATTER\n",
        "import cartopy.io.img_tiles as cimgt\n",
        "\n",
        "def make_map(projection=ccrs.PlateCarree()):\n",
        "    fig, ax = plt.subplots(figsize=(8, 6),\n",
        "                           subplot_kw=dict(projection=projection))\n",
        "    gl = ax.gridlines(draw_labels=True)\n",
        "    gl.top_labels_top = gl.right_labels = False\n",
        "    gl.xformatter = LONGITUDE_FORMATTER\n",
        "    gl.yformatter = LATITUDE_FORMATTER\n",
        "    return fig, ax\n",
        "import cartopy.io.img_tiles as cimgt\n",
        "\n",
        "extent = [112.95, 114.95, 21.75, 23]\n",
        "\n",
        "request = cimgt.GoogleTiles() # style=\"satellite\" for satellite image; don't make extent too big\n",
        "\n",
        "fig, ax = make_map(projection=request.crs)\n",
        "ax.set_extent(extent)\n",
        "\n",
        "ax.add_image(request, 10, interpolation='spline36', zorder=-5)\n",
        "\n",
        "# actual plot of the scatter\n",
        "\n",
        "i = 0\n",
        "\n",
        "# Initial time ID\n",
        "time_id = np.where(data_xarray['time'] == timerange[0])\n",
        "\n",
        "# Initial plot positions\n",
        "scatter = ax.scatter(data_xarray['lon'].values[time_id], data_xarray['lat'].values[time_id],\n",
        "                     transform=ccrs.PlateCarree(), color=\"k\")\n",
        "\n",
        "t = str(timerange[0])\n",
        "title = ax.set_title(\"Particle positions at \\n\"+t)\n",
        "\n",
        "plt.savefig(f\"./video/position_{i:04}.png\", dpi=75, bbox_inches=\"tight\")\n",
        "\n",
        "for i in range(len(timerange)):\n",
        "\n",
        "    if i % 10 == 0:\n",
        "        print(f\"working on frame number {i} / {len(timerange)}\")\n",
        "\n",
        "    # Update title\n",
        "    t = str(timerange[i])\n",
        "    title.set_text(\"Particle positions at\\n\"+t)\n",
        "\n",
        "    time_id = np.where(data_xarray['time'] == timerange[i])\n",
        "    scatter.set_offsets(np.c_[data_xarray['lon'].values[time_id], data_xarray['lat'].values[time_id]])\n",
        "\n",
        "    plt.savefig(f\"./video/position_{i:04}.png\", dpi=75, bbox_inches=\"tight\")"
      ],
      "metadata": {
        "id": "DGqICDkb_mbY"
      },
      "execution_count": null,
      "outputs": []
    },
    {
      "cell_type": "markdown",
      "source": [],
      "metadata": {
        "id": "w1FhheN-_FXR"
      }
    },
    {
      "cell_type": "code",
      "source": [],
      "metadata": {
        "id": "3fk8Ne1I_mis"
      },
      "execution_count": null,
      "outputs": []
    }
  ]
}