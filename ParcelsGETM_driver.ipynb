{
  "nbformat": 4,
  "nbformat_minor": 0,
  "metadata": {
    "colab": {
      "provenance": []
    },
    "kernelspec": {
      "name": "python3",
      "display_name": "Python 3"
    },
    "language_info": {
      "name": "python"
    }
  },
  "cells": [
    {
      "cell_type": "markdown",
      "source": [
        "# oceanparcels_demo.ipynb (mostly from Dan Bartley)\n",
        "\n",
        "All the material below is taken from the tutorial notebooks at https://oceanparcels.org/ - I've just picked out stuff from there."
      ],
      "metadata": {
        "id": "SpUOAYad8S14"
      }
    },
    {
      "cell_type": "markdown",
      "source": [
        "* NOTE: Run the below code first to download some packages and driver files."
      ],
      "metadata": {
        "id": "Waa4mc-UBbn3"
      }
    },
    {
      "cell_type": "code",
      "source": [
        "%pip install parcels cgen cftime netCDF4 zarr pymbolic\n",
        "%pip install cartopy\n",
        "# !wget https://zenodo.org/record/8143129/files/summer_2011.nc\n",
        "# !wget https://zenodo.org/record/8143129/files/winter_2010.nc"
      ],
      "metadata": {
        "id": "aO40iuCh8b-7"
      },
      "execution_count": null,
      "outputs": []
    },
    {
      "cell_type": "markdown",
      "source": [
        "## Import packages"
      ],
      "metadata": {
        "id": "Ir9MHjrW8ZvY"
      }
    },
    {
      "cell_type": "code",
      "source": [
        "%matplotlib inline\n",
        "from parcels import FieldSet, ParticleSet, JITParticle, AdvectionRK4, plotTrajectoriesFile, ErrorCode\n",
        "from datetime import timedelta\n",
        "import numpy as np\n",
        "import xarray as xr\n",
        "import matplotlib.pyplot as plt\n",
        "import cartopy\n",
        "import cartopy.crs as ccrs\n",
        "from matplotlib.animation import FuncAnimation\n",
        "from IPython.display import HTML"
      ],
      "metadata": {
        "id": "pdjxpl5z8WxL"
      },
      "execution_count": null,
      "outputs": []
    },
    {
      "cell_type": "markdown",
      "source": [
        "## Load velocities from NetCDF files\n",
        "These are loaded into an OceanParcels FieldSet object."
      ],
      "metadata": {
        "id": "1wrtNrqC9m-W"
      }
    },
    {
      "cell_type": "code",
      "source": [
        "# Names of files containing the data\n",
        "velocity_file = \"winter_2010.nc\"\n",
        "filenames = {\n",
        "    'U': velocity_file,\n",
        "    'V': velocity_file\n",
        "}\n",
        "\n",
        "# Names of the velocity component data in the file\n",
        "variables = {\n",
        "    'U': 'uu',\n",
        "    'V': 'vv'\n",
        "}\n",
        "\n",
        "# Names of the dimensions in the file\n",
        "dimensions = {\n",
        "    'lat': 'latc',\n",
        "    'lon': 'lonc',\n",
        "    'time': 'time'\n",
        "}\n",
        "\n",
        "# Create the FieldSet object\n",
        "fieldset = FieldSet.from_netcdf(filenames, variables, dimensions)"
      ],
      "metadata": {
        "id": "wdoXwcSw8hJJ"
      },
      "execution_count": null,
      "outputs": []
    },
    {
      "cell_type": "markdown",
      "source": [
        "## Initialise particles\n",
        "This is done using a ParticleSet object. I've included how it might be done for 1) putting individual one or few particles, and 2) fun particle shapes"
      ],
      "metadata": {
        "id": "zsjXZTUM9mzK"
      }
    },
    {
      "cell_type": "markdown",
      "source": [
        "#### 1) Putting one or a few particles"
      ],
      "metadata": {
        "id": "a8NzfUyu_FJ0"
      }
    },
    {
      "cell_type": "code",
      "source": [
        "# Initial positions of particles\n",
        "# (one line per particle, add/remove lines as desired)\n",
        "particle_positions = np.array([\n",
        "    [113.7, 22.6], # (longitude, latitude)\n",
        "    [113.71, 22.6], # (longitude, latitude)\n",
        "    # ...\n",
        "])\n",
        "\n",
        "# Release times of particles (must have a release time per particle)\n",
        "# Alternatively if you don't include time they get released at the first time value in the velocity file\n",
        "particle_times = np.arange(2)*timedelta(hours=8).total_seconds()\n",
        "\n",
        "# Create the ParticleSet\n",
        "pset = ParticleSet.from_list(\n",
        "    fieldset=fieldset,\n",
        "    pclass=JITParticle,\n",
        "    lon=particle_positions[:, 0],\n",
        "    lat=particle_positions[:, 1],\n",
        "    time=particle_times\n",
        ")"
      ],
      "metadata": {
        "id": "J-v18l0Z_LxM"
      },
      "execution_count": null,
      "outputs": []
    },
    {
      "cell_type": "markdown",
      "source": [
        "#### 2) Fun particle shapes\n",
        "I have included some fun designs for particle positions (smiley face, rubber duck, HKUST \"logo\"). These have integer coordinates for rows and columns and are centred at (0, 0). To place them in the domain, just add on the desired centre and multiply by a desired scale factor. For these I didn't set any release time so they are just released at the first time value in the velocity file."
      ],
      "metadata": {
        "id": "-p68dInG_FOs"
      }
    },
    {
      "cell_type": "code",
      "source": [
        "# Load the coordinates\n",
        "coords = np.loadtxt(f\"fun_particle_shapes/smiley_face.csv\", delimiter=\",\", dtype=int)\n",
        "\n",
        "# Move the shape to the desired centre and multiply by a scale factor\n",
        "particle_positions = np.array([114.62, 22.1]) + (0.0075*coords)\n",
        "\n",
        "# Create the ParticleSet\n",
        "pset = ParticleSet.from_list(\n",
        "    fieldset=fieldset,\n",
        "    pclass=JITParticle,\n",
        "    lon=particle_positions[:, 0],\n",
        "    lat=particle_positions[:, 1]\n",
        ")"
      ],
      "metadata": {
        "id": "O0QK3IzY_UVp"
      },
      "execution_count": null,
      "outputs": []
    },
    {
      "cell_type": "markdown",
      "source": [
        "#### Show the particle initial positions\n",
        "The `domain` argument specifies the maximum extent of the plot otherwise it defaults to the minimum boundary that covers the particles which isn't super helpful. Note that if you want to change this domain make sure it's within the range of the velocity data otherwise it will throw an error."
      ],
      "metadata": {
        "id": "sBrVDy9-_Tuf"
      }
    },
    {
      "cell_type": "code",
      "source": [
        "# code seems to crash the kernel, maybe don't use this...\n",
        "\n",
        "# pset.show(\n",
        "#     domain={\n",
        "#         \"N\":23.00,\n",
        "#         \"S\":21.75,\n",
        "#         \"E\":114.95,\n",
        "#         \"W\":112.95\n",
        "#     }\n",
        "# )"
      ],
      "metadata": {
        "id": "zxYR13dT_cmw"
      },
      "execution_count": null,
      "outputs": []
    },
    {
      "cell_type": "markdown",
      "source": [
        "## Simulate particle motion\n",
        "Trajectories are saved to a `.zarr` file which can be reopened later for plotting."
      ],
      "metadata": {
        "id": "9ZnI8z3H_FQ_"
      }
    },
    {
      "cell_type": "code",
      "source": [
        "# Length of time to simulate\n",
        "runtime = timedelta(days=5)\n",
        "\n",
        "# Integration timestep\n",
        "dt = timedelta(minutes=5)\n",
        "\n",
        "# Name of output file\n",
        "trajectory_filename = \"particle_trajectories.zarr\"\n",
        "\n",
        "# Frequency of outputs\n",
        "output_frequency = timedelta(minutes=30)\n",
        "\n",
        "# Function for deleting particles that go out of the boundary\n",
        "def DeleteParticle(particle, fieldset, time):\n",
        "    particle.delete()\n",
        "\n",
        "# Simulate and save the trajectories\n",
        "output_file = pset.ParticleFile(name=trajectory_filename, outputdt=output_frequency)\n",
        "pset.execute(\n",
        "    AdvectionRK4,\n",
        "    runtime=runtime,\n",
        "    dt=dt,\n",
        "    output_file=output_file,\n",
        "    recovery={ErrorCode.ErrorOutOfBounds: DeleteParticle}\n",
        ")"
      ],
      "metadata": {
        "id": "JVqOOZLI_f9t"
      },
      "execution_count": null,
      "outputs": []
    },
    {
      "cell_type": "markdown",
      "source": [
        "# Plotting\n",
        "\n",
        "I think OceanParcels doesn't really have its own plotting functionality, so they recommend you write your own. The code below comes from the animation tutorial in https://nbviewer.org/github/OceanParcels/parcels/blob/master/parcels/examples/tutorial_output.ipynb. This particular way of doing it seems to be painfully slow in some cases e.g. when there are particles released at different times, so an alternative option may be needed, which may also depend on what platform you're using (e.g. Jupyter/Colab)\n",
        "\n",
        "(Note: as a quick and dirty method you can use the OceanParcels function `plotTrajectoriesFile(\"filename.zarr\",mode=\"movie2d_notebook\")`, but it is very basic and doesn't seem to behave very well when using the method to delete particles that go outside the boundary, so probably best to stick to custom-made options)"
      ],
      "metadata": {
        "id": "Qwl6kiNs_FTb"
      }
    },
    {
      "cell_type": "code",
      "source": [
        "# Load the trajectory data\n",
        "trajectory_filename = \"particle_trajectories.zarr\"\n",
        "data_xarray = xr.open_zarr(trajectory_filename)\n",
        "\n",
        "dt = np.timedelta64(timedelta(minutes=30))\n",
        "\n",
        "# Times at which to plot\n",
        "timerange = np.arange(\n",
        "    np.nanmin(data_xarray['time'].values),\n",
        "    np.nanmax(data_xarray['time'].values) + dt,\n",
        "    dt\n",
        ")"
      ],
      "metadata": {
        "id": "M5AVLbmx_mk7"
      },
      "execution_count": null,
      "outputs": []
    },
    {
      "cell_type": "markdown",
      "source": [
        "### 1) Run the two cells below for in window animation (first creates object and second animates it)"
      ],
      "metadata": {
        "id": "PMA96pg5AvRu"
      }
    },
    {
      "cell_type": "code",
      "source": [
        "# in window animation (run the next cell)\n",
        "\n",
        "%%capture\n",
        "\n",
        "# Initialise the figure\n",
        "fig = plt.figure()\n",
        "ax = fig.add_subplot(projection=ccrs.PlateCarree())\n",
        "\n",
        "# Initial time ID\n",
        "time_id = np.where(data_xarray['time'] == timerange[0])\n",
        "\n",
        "# Initial plot positions\n",
        "scatter = ax.scatter(data_xarray['lon'].values[time_id], data_xarray['lat'].values[time_id])\n",
        "\n",
        "# Graph settings\n",
        "t = str(timerange[0])\n",
        "title = ax.set_title(\"Particle positions at \\n\"+t)\n",
        "ax.set_xlabel('Longitude [°E]')\n",
        "ax.set_ylabel('Latitude [°N]')\n",
        "ax.set_xlim(112.95, 114.95)\n",
        "ax.set_ylim(21.75, 23)\n",
        "ax.set_xticks(np.linspace(113, 114.5, 4))\n",
        "ax.set_yticks(np.linspace(22, 23, 3))\n",
        "ax.coastlines()\n",
        "ax.grid()\n",
        "\n",
        "def animate(i):\n",
        "\n",
        "    # Update title\n",
        "    t = str(timerange[i])\n",
        "    title.set_text(\"Particle positions at\\n\"+t)\n",
        "\n",
        "    # Update scatter positions\n",
        "    time_id = np.where(data_xarray['time'] == timerange[i])\n",
        "    scatter.set_offsets(np.c_[data_xarray['lon'].values[time_id], data_xarray['lat'].values[time_id]])\n",
        "\n",
        "anim = FuncAnimation(fig, animate, frames=len(timerange), interval=500)"
      ],
      "metadata": {
        "id": "tXFcVX6qAqqa"
      },
      "execution_count": null,
      "outputs": []
    },
    {
      "cell_type": "code",
      "source": [
        "HTML(anim.to_jshtml())"
      ],
      "metadata": {
        "id": "v2rKZC8HA3Y-"
      },
      "execution_count": null,
      "outputs": []
    },
    {
      "cell_type": "markdown",
      "source": [
        "### 2) Run the cell below for a fancy version but outputting the raw frame files (and you can throw those into an animator of your choice, e.g. on the internet)"
      ],
      "metadata": {
        "id": "dSvrhycOA3wi"
      }
    },
    {
      "cell_type": "code",
      "source": [
        "# fancy plot with more cartopy functionalities\n",
        "\n",
        "from cartopy.io import shapereader\n",
        "from cartopy.mpl.gridliner import LONGITUDE_FORMATTER, LATITUDE_FORMATTER\n",
        "import cartopy.io.img_tiles as cimgt\n",
        "\n",
        "def make_map(projection=ccrs.PlateCarree()):\n",
        "    fig, ax = plt.subplots(figsize=(8, 6),\n",
        "                           subplot_kw=dict(projection=projection))\n",
        "    gl = ax.gridlines(draw_labels=True)\n",
        "    gl.top_labels_top = gl.right_labels = False\n",
        "    gl.xformatter = LONGITUDE_FORMATTER\n",
        "    gl.yformatter = LATITUDE_FORMATTER\n",
        "    return fig, ax\n",
        "import cartopy.io.img_tiles as cimgt\n",
        "\n",
        "extent = [112.95, 114.95, 21.75, 23]\n",
        "\n",
        "request = cimgt.GoogleTiles() # style=\"satellite\" for satellite image; don't make extent too big\n",
        "\n",
        "fig, ax = make_map(projection=request.crs)\n",
        "ax.set_extent(extent)\n",
        "\n",
        "ax.add_image(request, 10, interpolation='spline36', zorder=-5)\n",
        "\n",
        "# actual plot of the scatter\n",
        "\n",
        "i = 0\n",
        "\n",
        "# Initial time ID\n",
        "time_id = np.where(data_xarray['time'] == timerange[0])\n",
        "\n",
        "# Initial plot positions\n",
        "scatter = ax.scatter(data_xarray['lon'].values[time_id], data_xarray['lat'].values[time_id],\n",
        "                     transform=ccrs.PlateCarree(), color=\"k\")\n",
        "\n",
        "t = str(timerange[0])\n",
        "title = ax.set_title(\"Particle positions at \\n\"+t)\n",
        "\n",
        "plt.savefig(f\"./video/position_{i:04}.png\", dpi=75, bbox_inches=\"tight\")\n",
        "\n",
        "for i in range(len(timerange)):\n",
        "\n",
        "    if i % 10 == 0:\n",
        "        print(f\"working on frame number {i} / {len(timerange)}\")\n",
        "\n",
        "    # Update title\n",
        "    t = str(timerange[i])\n",
        "    title.set_text(\"Particle positions at\\n\"+t)\n",
        "\n",
        "    time_id = np.where(data_xarray['time'] == timerange[i])\n",
        "    scatter.set_offsets(np.c_[data_xarray['lon'].values[time_id], data_xarray['lat'].values[time_id]])\n",
        "\n",
        "    plt.savefig(f\"./video/position_{i:04}.png\", dpi=75, bbox_inches=\"tight\")"
      ],
      "metadata": {
        "id": "DGqICDkb_mbY"
      },
      "execution_count": null,
      "outputs": []
    },
    {
      "cell_type": "markdown",
      "source": [],
      "metadata": {
        "id": "w1FhheN-_FXR"
      }
    },
    {
      "cell_type": "code",
      "source": [],
      "metadata": {
        "id": "3fk8Ne1I_mis"
      },
      "execution_count": null,
      "outputs": []
    }
  ]
}